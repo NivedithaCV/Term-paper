{
 "cells": [
  {
   "cell_type": "code",
   "execution_count": 2,
   "id": "68506f6d",
   "metadata": {},
   "outputs": [],
   "source": [
    "#Inputs"
   ]
  },
  {
   "cell_type": "code",
   "execution_count": 1,
   "id": "88d14842",
   "metadata": {},
   "outputs": [],
   "source": []
  },
  {
   "cell_type": "code",
   "execution_count": 1,
   "id": "27c96385",
   "metadata": {},
   "outputs": [],
   "source": [
    "%matplotlib inline\n",
    "from matplotlib import pyplot as pl\n",
    "import numpy as np\n",
    "\n",
    "# Import a library that contains soil moisture properties and functions\n",
    "import vanGenuchten as vg\n",
    "\n",
    "# Import ODE solvers\n",
    "from scipy.interpolate import interp1d\n",
    "from scipy.integrate import odeint\n",
    "\n",
    "# Select which soil properties to use\n",
    "p=vg.HygieneSandstone()"
   ]
  },
  {
   "cell_type": "code",
   "execution_count": 2,
   "id": "c1c94e96",
   "metadata": {},
   "outputs": [],
   "source": [
    "def RichardsModel(psi,t,dz,n,p,vg,qTop,qBot,psiTop,psiBot):\n",
    "       \n",
    "    # Basic properties:\n",
    "    C=vg.CFun(psi,p)\n",
    "   \n",
    "    # initialize vectors:\n",
    "    q=np.zeros(n+1)\n",
    "    \n",
    "    # Upper boundary\n",
    "    if qTop == []:\n",
    "        KTop=vg.KFun(np.zeros(1)+psiTop,p)\n",
    "        q[n]=-KTop*((psiTop-psi[n-1])/dz*2+1)\n",
    "    else:\n",
    "        q[n]=qTop\n",
    "    \n",
    "    # Lower boundary\n",
    "    if qBot == []:\n",
    "        if psiBot == []:\n",
    "            # Free drainage\n",
    "            KBot=vg.KFun(np.zeros(1)+psi[0],p)\n",
    "            q[0]=-KBot\n",
    "        else:\n",
    "            # Type 1 boundary\n",
    "            KBot=vg.KFun(np.zeros(1)+psiBot,p)\n",
    "            q[0]=-KBot*((psi[0]-psiBot)/dz*2+1.0)    \n",
    "    else:\n",
    "        # Type 2 boundary\n",
    "        q[0]=qBot\n",
    "    \n",
    "    # Internal nodes\n",
    "    i=np.arange(0,n-1)\n",
    "    Knodes=vg.KFun(psi,p)\n",
    "    Kmid=(Knodes[i+1]+Knodes[i])/2.0\n",
    "    \n",
    "    j=np.arange(1,n)\n",
    "    q[j]=-Kmid*((psi[i+1]-psi[i])/dz+1.0)\n",
    "    \n",
    "    \n",
    "    \n",
    "    # Continuity\n",
    "    i=np.arange(0,n)\n",
    "    dpsidt=(-(q[i+1]-q[i])/dz)/C\n",
    "    \n",
    "    \n",
    "    return dpsidt"
   ]
  },
  {
   "cell_type": "code",
   "execution_count": 3,
   "id": "abde7d43",
   "metadata": {},
   "outputs": [
    {
     "name": "stdout",
     "output_type": "stream",
     "text": [
      "Model run successfully [[-0.005      -0.015      -0.025      ... -0.975      -0.985\n",
      "  -0.995     ]\n",
      " [-1.47628892 -1.4763215  -1.47638221 ... -1.4848052  -1.48480851\n",
      "  -1.48481151]\n",
      " [-1.48479232 -1.48479253 -1.48479292 ... -1.48483157 -1.48483157\n",
      "  -1.48483156]\n",
      " ...\n",
      " [-1.4848316  -1.4848316  -1.4848316  ... -1.4848316  -1.4848316\n",
      "  -1.4848316 ]\n",
      " [-1.4848316  -1.4848316  -1.4848316  ... -1.4848316  -1.4848316\n",
      "  -1.4848316 ]\n",
      " [-1.4848316  -1.4848316  -1.4848316  ... -1.4848316  -1.4848316\n",
      "  -1.4848316 ]]\n"
     ]
    }
   ],
   "source": [
    "qTop=-0.01\n",
    "qBot=[]\n",
    "psiTop=[]\n",
    "psiBot=[]\n",
    "\n",
    "# Grid in space\n",
    "dz=0.01\n",
    "ProfileDepth=1\n",
    "z=np.arange(dz/2.0,ProfileDepth,dz)\n",
    "n=z.size\n",
    "\n",
    "# Grid in time\n",
    "t_final=1440\n",
    "dt=1\n",
    "t= np.arange(0,t_final, dt)\n",
    "\n",
    "# Initial conditions\n",
    "psi0=-z\n",
    "\n",
    "# Solve\n",
    "psi=odeint(RichardsModel,psi0,t,args=(dz,n,p,vg,qTop,qBot,psiTop,psiBot),mxstep=5000000);\n",
    "\n",
    "print(\"Model run successfully\", psi)"
   ]
  },
  {
   "cell_type": "code",
   "execution_count": 4,
   "id": "e7078591",
   "metadata": {},
   "outputs": [],
   "source": [
    "theta=vg.thetaFun(psi,p)\n",
    "\n",
    "# Get total profile storage\n",
    "S=theta.sum(axis=1)*dz\n",
    "\n",
    "# Get change in storage [dVol]\n",
    "dS=np.zeros(S.size)\n",
    "dS[1:]=np.diff(S)/(t[1]-t[0])\n",
    "\n",
    "# Get infiltration flux\n",
    "if qTop == []:\n",
    "    KTop=vg.KFun(np.zeros(1)+psiTop,p)\n",
    "    qI=-KTop*((psiTop-psi[:,n-1])/dz*2+1)\n",
    "else:\n",
    "    qI=np.zeros(t.size)+qTop\n",
    "    \n",
    "# Get discharge flux\n",
    "if qBot == []:\n",
    "    if psiBot == []:\n",
    "        # Free drainage\n",
    "        KBot=vg.KFun(psi[:,0],p)\n",
    "        qD=-KBot\n",
    "    else:\n",
    "        # Type 1 boundary\n",
    "        KBot=vg.KFun(np.zeros(1)+psiBot,p)\n",
    "        qD=-KBot*((psi[:,0]-psiBot)/dz*2+1.0)\n",
    "else:\n",
    "    qD=np.zeros(t.size)+qBot\n",
    "    "
   ]
  },
  {
   "cell_type": "code",
   "execution_count": 5,
   "id": "36387f4e",
   "metadata": {},
   "outputs": [],
   "source": [
    "theta = np.array(theta)"
   ]
  },
  {
   "cell_type": "code",
   "execution_count": 62,
   "id": "481f32af",
   "metadata": {},
   "outputs": [
    {
     "data": {
      "text/plain": [
       "(1440, 100)"
      ]
     },
     "execution_count": 62,
     "metadata": {},
     "output_type": "execute_result"
    }
   ],
   "source": [
    "theta.shape"
   ]
  },
  {
   "cell_type": "code",
   "execution_count": 16,
   "id": "8f03afd9",
   "metadata": {},
   "outputs": [],
   "source": [
    "z=np.array(z)"
   ]
  },
  {
   "cell_type": "code",
   "execution_count": 17,
   "id": "320ad0b7",
   "metadata": {},
   "outputs": [
    {
     "data": {
      "text/plain": [
       "(100,)"
      ]
     },
     "execution_count": 17,
     "metadata": {},
     "output_type": "execute_result"
    }
   ],
   "source": [
    "z.shape"
   ]
  },
  {
   "cell_type": "code",
   "execution_count": null,
   "id": "eba65d1b",
   "metadata": {},
   "outputs": [],
   "source": []
  },
  {
   "cell_type": "code",
   "execution_count": 12,
   "id": "ef6143d0",
   "metadata": {},
   "outputs": [],
   "source": [
    "L=1 #meter\n",
    "n=100\n",
    "T0=20.6 #celcius\n",
    "T1s=33.5\n",
    "T2s=20.6\n",
    "dx=L/n\n",
    "k=48 \n",
    "rho=1.60\n",
    "t_final=1440 #hour\n",
    "dt=1 #minute"
   ]
  },
  {
   "cell_type": "code",
   "execution_count": 16,
   "id": "52bd32bc",
   "metadata": {},
   "outputs": [
    {
     "data": {
      "text/plain": [
       "array([0.25      , 0.25      , 0.25      , 0.24999986, 0.24999813,\n",
       "       0.24998494, 0.24991448, 0.24962239, 0.24862715, 0.24577213,\n",
       "       0.23895414, 0.2260454 , 0.20789382, 0.18944783, 0.17521678,\n",
       "       0.1660282 , 0.16059552, 0.15747948, 0.15569246, 0.15465344,\n",
       "       0.15403751, 0.15366461, 0.15343408, 0.15328868, 0.15319521,\n",
       "       0.15313407, 0.15309341, 0.15306595, 0.15304715, 0.1530341 ,\n",
       "       0.15302492, 0.1530184 , 0.15301372, 0.15301032, 0.15300783,\n",
       "       0.15300598, 0.15300461, 0.15300357, 0.15300279, 0.15300219,\n",
       "       0.15300173, 0.15300138, 0.1530011 , 0.15300089, 0.15300072,\n",
       "       0.15300058, 0.15300047, 0.15300039, 0.15300032, 0.15300026])"
      ]
     },
     "execution_count": 16,
     "metadata": {},
     "output_type": "execute_result"
    }
   ],
   "source": [
    "alpha=48/(0.5*2.1*10**6 + 0.5*0.0012*10**6)\n",
    "alpha"
   ]
  },
  {
   "cell_type": "code",
   "execution_count": 13,
   "id": "37281475",
   "metadata": {},
   "outputs": [],
   "source": [
    "x=np.linspace(dx/2, L-dx/2, n)\n",
    "t= np.arange(0,t_final, dt)\n",
    "T=np.ones(n)*T0\n",
    "dTdt= np.empty(n)\n"
   ]
  },
  {
   "cell_type": "code",
   "execution_count": 55,
   "id": "39b2f936",
   "metadata": {},
   "outputs": [
    {
     "data": {
      "text/plain": [
       "1440"
      ]
     },
     "execution_count": 55,
     "metadata": {},
     "output_type": "execute_result"
    }
   ],
   "source": [
    "len(t)"
   ]
  },
  {
   "cell_type": "code",
   "execution_count": 14,
   "id": "e3d1d923",
   "metadata": {},
   "outputs": [],
   "source": [
    "for j in range(1,len(t)):\n",
    "    alpha=48/(0.5*2.1*10**6 + theta[j]*0.0012*10**6)\n",
    "    for i in range(1,n-1):\n",
    "        dTdt[i]= alpha[i]*(-(T[i]- T[i-1])/ dx**2+(T[i+1]-T[i])/dx**2)\n",
    "    dTdt[0]= alpha[i]*(-(T[0]- T1s)/ dx**2+(T[1]-T[0])/dx**2)\n",
    "    dTdt[n-1]= alpha[i]*(-(T[n-1]- T[n-2])/ dx**2+(T2s-T[n-1])/dx**2)\n",
    "    T=T+dTdt*dt\n",
    "#     pl.scatter(x,T,label='time (in seconds):'+ str(round(j*dt,1)))\n",
    "#     #pl.scatter([-dx/2, L+dx/2],[Tb1,Tb2])\n",
    "#     plot_visuals()\n",
    "#     pl.pause(dt)\n",
    "# pl.show()"
   ]
  },
  {
   "cell_type": "code",
   "execution_count": 34,
   "id": "e7eef47c",
   "metadata": {},
   "outputs": [],
   "source": [
    "def plot_visuals():\n",
    "\tpl.figure(1)\n",
    "\tpl.axis([-dx, L+dx, 0, 50])\n",
    "\tpl.xlabel('Distance (in m)')\n",
    "\tpl.ylabel('Temp (in C)')\n",
    "\tpl.grid()\n",
    "\tpl.legend()"
   ]
  },
  {
   "cell_type": "code",
   "execution_count": 22,
   "id": "af51c06b",
   "metadata": {},
   "outputs": [
    {
     "data": {
      "text/plain": [
       "(15.0, 35.0)"
      ]
     },
     "execution_count": 22,
     "metadata": {},
     "output_type": "execute_result"
    },
    {
     "data": {
      "image/png": "[encoded data removed]",
      "text/plain": [
       "<Figure size 432x288 with 1 Axes>"
      ]
     },
     "metadata": {
      "needs_background": "light"
     },
     "output_type": "display_data"
    }
   ],
   "source": [
    "pl.plot(x,T)\n",
    "pl.ylabel('Temperature [$^\\circ$C]',fontsize=20)\n",
    "pl.xlabel(\"elevation[m]\",fontsize=20)\n",
    "pl.ylim([15,35])"
   ]
  },
  {
   "cell_type": "code",
   "execution_count": 67,
   "id": "7c77112e",
   "metadata": {},
   "outputs": [],
   "source": [
    "import math as m"
   ]
  },
  {
   "cell_type": "code",
   "execution_count": 96,
   "id": "e8b957de",
   "metadata": {},
   "outputs": [],
   "source": [
    "def analy(z):\n",
    "    t=1440\n",
    "    lamda=2\n",
    "    C_w =4.17*10**6\n",
    "    C=2.1*10**6\n",
    "    rho_w =1000\n",
    "    rho = 2630\n",
    "    q_f =4*10**(-7)\n",
    "    tau=1440\n",
    "    A=5\n",
    "    T_inf =20\n",
    "    T1= (m.pi* C*rho)/(lamda*tau)\n",
    "    T2= (q_f*C_w * rho_w)/(2*lamda)\n",
    "    a=((T1**2+ ((T2**4)**4)/4)**0.5 + (T2**2)/ 2)**0.5 - T2\n",
    "    b=((T1**2+ ((T2**4)**4)/4)**0.5 + (T2**2)/ 2)**0.5\n",
    "    T_zt = A*m.exp(-a*z)*m.sin(((2*m.pi*t)/tau)-b*z) + T_inf\n",
    "    return(T_zt)"
   ]
  },
  {
   "cell_type": "code",
   "execution_count": 106,
   "id": "0c2dc352",
   "metadata": {},
   "outputs": [],
   "source": [
    "t=360\n",
    "lamda=2\n",
    "C_w =4.17*10**6\n",
    "C=2.1*10**6\n",
    "rho_w =1000\n",
    "rho = 2630\n",
    "q_f =4*10**(-7)\n",
    "tau=1440\n",
    "A=5\n",
    "T_inf =20\n",
    "z=0\n",
    "T1= (m.pi* C*rho)/(lamda*tau)\n",
    "T2= (q_f*C_w * rho_w)/(2*lamda)\n",
    "a=((T1**2+ ((T2**4)**4)/4)**0.5 + (T2**2)/ 2)**0.5 - T2\n",
    "b=((T1**2+ ((T2**4)**4)/4)**0.5 + (T2**2)/ 2)**0.5\n",
    "T_zt = A*m.exp(-a*z)*m.sin(((2*m.pi*t)/tau)-b*z) + T_inf"
   ]
  },
  {
   "cell_type": "code",
   "execution_count": 105,
   "id": "a625935e",
   "metadata": {},
   "outputs": [
    {
     "data": {
      "text/plain": [
       "20.0"
      ]
     },
     "execution_count": 105,
     "metadata": {},
     "output_type": "execute_result"
    }
   ],
   "source": [
    "T_zt = A*m.sin((2*m.pi*t)/tau)+20\n",
    "T_zt"
   ]
  },
  {
   "cell_type": "code",
   "execution_count": 107,
   "id": "2d9c6596",
   "metadata": {},
   "outputs": [],
   "source": [
    "dz=0.01\n",
    "ProfileDepth = 1.5\n",
    "z1=np.arange(dz,ProfileDepth,dz)\n",
    "Tem=[]\n",
    "for i in z1:\n",
    "    k=analy(i)\n",
    "    Tem.append(k)"
   ]
  },
  {
   "cell_type": "code",
   "execution_count": 108,
   "id": "0f2718d0",
   "metadata": {},
   "outputs": [
    {
     "data": {
      "text/plain": [
       "[<matplotlib.lines.Line2D at 0x2897f4fc190>]"
      ]
     },
     "execution_count": 108,
     "metadata": {},
     "output_type": "execute_result"
    },
    {
     "data": {
      "image/png": "[encoded data removed]",
      "text/plain": [
       "<Figure size 432x288 with 1 Axes>"
      ]
     },
     "metadata": {
      "needs_background": "light"
     },
     "output_type": "display_data"
    }
   ],
   "source": [
    "pl.plot(Tem,z1)"
   ]
  }
 ],
 "metadata": {
  "kernelspec": {
   "display_name": "Python 3 (ipykernel)",
   "language": "python",
   "name": "python3"
  },
  "language_info": {
   "codemirror_mode": {
    "name": "ipython",
    "version": 3
   },
   "file_extension": ".py",
   "mimetype": "text/x-python",
   "name": "python",
   "nbconvert_exporter": "python",
   "pygments_lexer": "ipython3",
   "version": "3.9.6"
  }
 },
 "nbformat": 4,
 "nbformat_minor": 5
}
