{
 "cells": [
  {
   "cell_type": "code",
   "execution_count": 2,
   "id": "68506f6d",
   "metadata": {},
   "outputs": [],
   "source": [
    "#Inputs"
   ]
  },
  {
   "cell_type": "code",
   "execution_count": 1,
   "id": "88d14842",
   "metadata": {},
   "outputs": [],
   "source": []
  },
  {
   "cell_type": "code",
   "execution_count": 1,
   "id": "27c96385",
   "metadata": {},
   "outputs": [],
   "source": [
    "%matplotlib inline\n",
    "from matplotlib import pyplot as pl\n",
    "import numpy as np\n",
    "\n",
    "# Import a library that contains soil moisture properties and functions\n",
    "import vanGenuchten as vg\n",
    "\n",
    "# Import ODE solvers\n",
    "from scipy.interpolate import interp1d\n",
    "from scipy.integrate import odeint\n",
    "\n",
    "# Select which soil properties to use\n",
    "p=vg.HygieneSandstone()"
   ]
  },
  {
   "cell_type": "code",
   "execution_count": 2,
   "id": "2868a879",
   "metadata": {},
   "outputs": [],
   "source": [
    "def RichardsModel(psi,t,dz,n,p,vg,qTop,qBot,psiTop,psiBot):\n",
    "       \n",
    "    # Basic properties:\n",
    "    C=vg.CFun(psi,p)\n",
    "   \n",
    "    # initialize vectors:\n",
    "    q=np.zeros(n+1)\n",
    "    \n",
    "    # Upper boundary\n",
    "    if qTop == []:\n",
    "        KTop=vg.KFun(np.zeros(1)+psiTop,p)\n",
    "        q[n]=-KTop*((psiTop-psi[n-1])/dz*2+1)\n",
    "    else:\n",
    "        q[n]=qTop\n",
    "    \n",
    "    # Lower boundary\n",
    "    if qBot == []:\n",
    "        if psiBot == []:\n",
    "            # Free drainage\n",
    "            KBot=vg.KFun(np.zeros(1)+psi[0],p)\n",
    "            q[0]=-KBot\n",
    "        else:\n",
    "            # Type 1 boundary\n",
    "            KBot=vg.KFun(np.zeros(1)+psiBot,p)\n",
    "            q[0]=-KBot*((psi[0]-psiBot)/dz*2+1.0)    \n",
    "    else:\n",
    "        # Type 2 boundary\n",
    "        q[0]=qBot\n",
    "    \n",
    "    # Internal nodes\n",
    "    i=np.arange(0,n-1)\n",
    "    Knodes=vg.KFun(psi,p)\n",
    "    Kmid=(Knodes[i+1]+Knodes[i])/2.0\n",
    "    \n",
    "    j=np.arange(1,n)\n",
    "    q[j]=-Kmid*((psi[i+1]-psi[i])/dz+1.0)\n",
    "    \n",
    "    \n",
    "    \n",
    "    # Continuity\n",
    "    i=np.arange(0,n)\n",
    "    dpsidt=(-(q[i+1]-q[i])/dz)/C\n",
    "    \n",
    "    \n",
    "    return dpsidt"
   ]
  },
  {
   "cell_type": "code",
   "execution_count": 126,
   "id": "c6c6c7ab",
   "metadata": {},
   "outputs": [
    {
     "name": "stdout",
     "output_type": "stream",
     "text": [
      "Model run successfully [[-0.005      -0.015      -0.025      ... -1.475      -1.485\n",
      "  -1.495     ]\n",
      " [-1.47715147 -1.47724043 -1.47740665 ... -1.72327235 -1.73146954\n",
      "  -1.74046895]\n",
      " [-1.54949779 -1.54958669 -1.54975255 ... -1.79668908 -1.80490601\n",
      "  -1.81390504]\n",
      " ...\n",
      " [-2.24378485 -2.24378571 -2.24378734 ... -2.24406656 -2.24406658\n",
      "  -2.24406659]\n",
      " [-2.2437868  -2.24378766 -2.24378928 ... -2.24406656 -2.24406658\n",
      "  -2.24406659]\n",
      " [-2.24378875 -2.2437896  -2.24379121 ... -2.24406657 -2.24406658\n",
      "  -2.24406659]]\n"
     ]
    }
   ],
   "source": [
    "qTop=-4*10**(-7)\n",
    "qBot=[]\n",
    "psiTop=[]\n",
    "psiBot=[]\n",
    "\n",
    "# Grid in space\n",
    "dz=0.01\n",
    "ProfileDepth=1.5\n",
    "z=np.arange(dz/2.0,ProfileDepth,dz)\n",
    "n=z.size\n",
    "\n",
    "# Grid in time\n",
    "t_final=1440\n",
    "dt=1\n",
    "t= np.arange(0,t_final, dt)\n",
    "\n",
    "# Initial conditions\n",
    "psi0=-z\n",
    "\n",
    "# Solve\n",
    "psi=odeint(RichardsModel,psi0,t,args=(dz,n,p,vg,qTop,qBot,psiTop,psiBot),mxstep=5000000);\n",
    "\n",
    "print(\"Model run successfully\", psi)"
   ]
  },
  {
   "cell_type": "code",
   "execution_count": 127,
   "id": "36788d73",
   "metadata": {},
   "outputs": [],
   "source": [
    "theta=vg.thetaFun(psi,p)\n",
    "\n",
    "# Get total profile storage\n",
    "S=theta.sum(axis=1)*dz\n",
    "\n",
    "# Get change in storage [dVol]\n",
    "dS=np.zeros(S.size)\n",
    "dS[1:]=np.diff(S)/(t[1]-t[0])\n",
    "\n",
    "# Get infiltration flux\n",
    "if qTop == []:\n",
    "    KTop=vg.KFun(np.zeros(1)+psiTop,p)\n",
    "    qI=-KTop*((psiTop-psi[:,n-1])/dz*2+1)\n",
    "else:\n",
    "    qI=np.zeros(t.size)+qTop\n",
    "    \n",
    "# Get discharge flux\n",
    "if qBot == []:\n",
    "    if psiBot == []:\n",
    "        # Free drainage\n",
    "        KBot=vg.KFun(psi[:,0],p)\n",
    "        qD=-KBot\n",
    "    else:\n",
    "        # Type 1 boundary\n",
    "        KBot=vg.KFun(np.zeros(1)+psiBot,p)\n",
    "        qD=-KBot*((psi[:,0]-psiBot)/dz*2+1.0)\n",
    "else:\n",
    "    qD=np.zeros(t.size)+qBot\n",
    "    "
   ]
  },
  {
   "cell_type": "code",
   "execution_count": 128,
   "id": "b516bbb2",
   "metadata": {},
   "outputs": [],
   "source": [
    "theta = np.array(theta)"
   ]
  },
  {
   "cell_type": "code",
   "execution_count": 129,
   "id": "7d43e483",
   "metadata": {},
   "outputs": [
    {
     "data": {
      "text/plain": [
       "(1440, 150)"
      ]
     },
     "execution_count": 129,
     "metadata": {},
     "output_type": "execute_result"
    }
   ],
   "source": [
    "theta.shape\n"
   ]
  },
  {
   "cell_type": "code",
   "execution_count": 130,
   "id": "b40a2699",
   "metadata": {},
   "outputs": [],
   "source": [
    "L=1.5 #meter\n",
    "n=100\n",
    "T0=20 #celcius\n",
    "T1s=26\n",
    "T2s=20\n",
    "dx=L/n\n",
    "k=48 \n",
    "rho=1.60\n",
    "t_final=1440 #hour\n",
    "dt=1 #minute"
   ]
  },
  {
   "cell_type": "code",
   "execution_count": 33,
   "id": "14c781e9",
   "metadata": {},
   "outputs": [
    {
     "data": {
      "text/plain": [
       "1.9036740909956215e-06"
      ]
     },
     "execution_count": 33,
     "metadata": {},
     "output_type": "execute_result"
    }
   ],
   "source": [
    "alpha=2/(0.5*2.1*10**6 + 0.5*0.0012*10**6)\n",
    "alpha"
   ]
  },
  {
   "cell_type": "code",
   "execution_count": 131,
   "id": "2d36e3cb",
   "metadata": {},
   "outputs": [],
   "source": [
    "x=np.linspace(dx/2, L-dx/2, n)\n",
    "t= np.arange(0,t_final, dt)\n",
    "T=np.ones(n)*T0\n",
    "dTdt= np.empty(n)\n"
   ]
  },
  {
   "cell_type": "code",
   "execution_count": 63,
   "id": "35c6cdb2",
   "metadata": {},
   "outputs": [
    {
     "data": {
      "text/plain": [
       "20.021816546423732"
      ]
     },
     "execution_count": 63,
     "metadata": {},
     "output_type": "execute_result"
    }
   ],
   "source": [
    "T1s= T[0]+A*m.sin((2*m.pi*1)/1440)\n",
    "T1s"
   ]
  },
  {
   "cell_type": "code",
   "execution_count": 18,
   "id": "4b72d8af",
   "metadata": {},
   "outputs": [],
   "source": [
    "import math as m\n",
    "Tau =1440"
   ]
  },
  {
   "cell_type": "code",
   "execution_count": 132,
   "id": "aea7cef8",
   "metadata": {},
   "outputs": [],
   "source": [
    "for j in range(1,len(t)):\n",
    "    A=5\n",
    "    T1s= 20+A*m.sin((2*m.pi*j)/1440)\n",
    "    alpha=48/(0.5*2.1*10**6 + theta[j]*0.214*10**6)\n",
    "    for i in range(1,n-1):\n",
    "        dTdt[i]= alpha[i]*(-(T[i]- T[i-1])/ dx**2+(T[i+1]-T[i])/dx**2)\n",
    "    dTdt[0]= alpha[i]*(-(T[0]- T1s)/ dx**2+(T[1]-T[0])/dx**2)\n",
    "    dTdt[n-1]= alpha[i]*(-(T[n-1]- T[n-2])/ dx**2+(T2s-T[n-1])/dx**2)\n",
    "    T=T+dTdt*dt\n",
    "#     pl.scatter(x,T,label='time (in seconds):'+ str(round(j*dt,1)))\n",
    "#     #pl.scatter([-dx/2, L+dx/2],[Tb1,Tb2])\n",
    "#     plot_visuals()\n",
    "#     pl.pause(dt)\n",
    "# pl.show()"
   ]
  },
  {
   "cell_type": "code",
   "execution_count": 34,
   "id": "c14476bd",
   "metadata": {},
   "outputs": [],
   "source": [
    "def plot_visuals():\n",
    "\tpl.figure(1)\n",
    "\tpl.axis([-dx, L+dx, 0, 50])\n",
    "\tpl.xlabel('Distance (in m)')\n",
    "\tpl.ylabel('Temp (in C)')\n",
    "\tpl.grid()\n",
    "\tpl.legend()"
   ]
  },
  {
   "cell_type": "code",
   "execution_count": 113,
   "id": "282aee58",
   "metadata": {},
   "outputs": [
    {
     "data": {
      "text/plain": [
       "18.774727288919696"
      ]
     },
     "execution_count": 113,
     "metadata": {},
     "output_type": "execute_result"
    }
   ],
   "source": [
    "T[0]"
   ]
  },
  {
   "cell_type": "code",
   "execution_count": 136,
   "id": "a9cc0aa7",
   "metadata": {},
   "outputs": [],
   "source": [
    "def fun(z,j):   \n",
    "    omega= (2*m.pi)/1440\n",
    "    K=48/(0.5*2.1*10**6 + theta[1439][j]*0.0012*10**6)\n",
    "    D= (2*K / omega)**0.5\n",
    "    B_z=z/D\n",
    "    A_z= 5*m.exp(-z/D)\n",
    "    T= 20- A_z*m.sin(omega*1440 + B_z)\n",
    "    \n",
    "    return T\n"
   ]
  },
  {
   "cell_type": "code",
   "execution_count": 137,
   "id": "3b1921af",
   "metadata": {},
   "outputs": [],
   "source": [
    "L=1.5 #meter\n",
    "n=100\n",
    "T0=20 #celcius\n",
    "T1s=26\n",
    "T2s=20\n",
    "dx=L/n\n",
    "x=np.linspace(dx/2, L-dx/2, n)\n",
    "final=[];j=0\n",
    "for i in x:\n",
    "    final.append(fun(i,j))\n",
    "    j=j+1"
   ]
  },
  {
   "cell_type": "code",
   "execution_count": 144,
   "id": "c572ec61",
   "metadata": {
    "scrolled": true
   },
   "outputs": [
    {
     "data": {
      "image/png": "[encoded data removed]",
      "text/plain": [
       "<Figure size 432x288 with 1 Axes>"
      ]
     },
     "metadata": {
      "needs_background": "light"
     },
     "output_type": "display_data"
    }
   ],
   "source": [
    "pl.plot(final,-x,label=\"analytical\")\n",
    "pl.xlim([14, 24])\n",
    "pl.plot(T,-x,label=\"numerical\")\n",
    "pl.xlim([14, 24])\n",
    "pl.xlabel(\"temperature[$^\\circ$C]\")\n",
    "pl.ylabel(\"depth(m)\")\n",
    "pl.legend()\n",
    "pl.show()\n"
   ]
  },
  {
   "cell_type": "code",
   "execution_count": 67,
   "id": "e0397bf8",
   "metadata": {},
   "outputs": [],
   "source": [
    "import math as m"
   ]
  },
  {
   "cell_type": "code",
   "execution_count": 96,
   "id": "bb84e0a4",
   "metadata": {},
   "outputs": [],
   "source": [
    "def analy(z):\n",
    "    t=1440\n",
    "    lamda=2\n",
    "    C_w =4.17*10**6\n",
    "    C=2.1*10**6\n",
    "    rho_w =1000\n",
    "    rho = 2630\n",
    "    q_f =4*10**(-7)\n",
    "    tau=1440\n",
    "    A=5\n",
    "    T_inf =20\n",
    "    T1= (m.pi* C*rho)/(lamda*tau)\n",
    "    T2= (q_f*C_w * rho_w)/(2*lamda)\n",
    "    a=((T1**2+ ((T2**4)**4)/4)**0.5 + (T2**2)/ 2)**0.5 - T2\n",
    "    b=((T1**2+ ((T2**4)**4)/4)**0.5 + (T2**2)/ 2)**0.5\n",
    "    T_zt = A*m.exp(-a*z)*m.sin(((2*m.pi*t)/tau)-b*z) + T_inf\n",
    "    return(T_zt)"
   ]
  },
  {
   "cell_type": "code",
   "execution_count": 106,
   "id": "e36c6d59",
   "metadata": {},
   "outputs": [],
   "source": [
    "t=360\n",
    "lamda=2\n",
    "C_w =4.17*10**6\n",
    "C=2.1*10**6\n",
    "rho_w =1000\n",
    "rho = 2630\n",
    "q_f =4*10**(-7)\n",
    "tau=1440\n",
    "A=5\n",
    "T_inf =20\n",
    "z=0\n",
    "T1= (m.pi* C*rho)/(lamda*tau)\n",
    "T2= (q_f*C_w * rho_w)/(2*lamda)\n",
    "a=((T1**2+ ((T2**4)**4)/4)**0.5 + (T2**2)/ 2)**0.5 - T2\n",
    "b=((T1**2+ ((T2**4)**4)/4)**0.5 + (T2**2)/ 2)**0.5\n",
    "T_zt = A*m.exp(-a*z)*m.sin(((2*m.pi*t)/tau)-b*z) + T_inf"
   ]
  },
  {
   "cell_type": "code",
   "execution_count": 105,
   "id": "35016740",
   "metadata": {},
   "outputs": [
    {
     "data": {
      "text/plain": [
       "20.0"
      ]
     },
     "execution_count": 105,
     "metadata": {},
     "output_type": "execute_result"
    }
   ],
   "source": [
    "T_zt = A*m.sin((2*m.pi*t)/tau)+20\n",
    "T_zt"
   ]
  },
  {
   "cell_type": "code",
   "execution_count": 135,
   "id": "4b2ada89",
   "metadata": {},
   "outputs": [
    {
     "ename": "UnboundLocalError",
     "evalue": "local variable 'Tbar' referenced before assignment",
     "output_type": "error",
     "traceback": [
      "\u001b[1;31m---------------------------------------------------------------------------\u001b[0m",
      "\u001b[1;31mUnboundLocalError\u001b[0m                         Traceback (most recent call last)",
      "\u001b[1;32m~\\AppData\\Local\\Temp/ipykernel_15556/4120468507.py\u001b[0m in \u001b[0;36m<module>\u001b[1;34m\u001b[0m\n\u001b[0;32m     24\u001b[0m \u001b[1;33m\u001b[0m\u001b[0m\n\u001b[0;32m     25\u001b[0m \u001b[1;31m#plot across depths\u001b[0m\u001b[1;33m\u001b[0m\u001b[1;33m\u001b[0m\u001b[1;33m\u001b[0m\u001b[0m\n\u001b[1;32m---> 26\u001b[1;33m pl.plot(sec/(60*60),Tsoil(0,sec), type=\"l\", lty=\"dashed\", \n\u001b[0m\u001b[0;32m     27\u001b[0m      xlim=c(0,24), xlab= \"Time (hr)\", ylab=\"Temperature (°C)\")\n\u001b[0;32m     28\u001b[0m \u001b[0mpoints\u001b[0m\u001b[1;33m(\u001b[0m\u001b[0msec\u001b[0m\u001b[1;33m/\u001b[0m\u001b[1;33m(\u001b[0m\u001b[1;36m60\u001b[0m\u001b[1;33m*\u001b[0m\u001b[1;36m60\u001b[0m\u001b[1;33m)\u001b[0m\u001b[1;33m,\u001b[0m\u001b[0mTsoil\u001b[0m\u001b[1;33m(\u001b[0m\u001b[1;36m5\u001b[0m\u001b[1;33m,\u001b[0m\u001b[0msec\u001b[0m\u001b[1;33m)\u001b[0m\u001b[1;33m,\u001b[0m \u001b[0mtype\u001b[0m\u001b[1;33m=\u001b[0m\u001b[1;34m\"l\"\u001b[0m\u001b[1;33m,\u001b[0m \u001b[0mcol\u001b[0m\u001b[1;33m=\u001b[0m\u001b[1;34m\"skyblue\"\u001b[0m\u001b[1;33m)\u001b[0m\u001b[1;33m\u001b[0m\u001b[1;33m\u001b[0m\u001b[0m\n",
      "\u001b[1;32m~\\AppData\\Local\\Temp/ipykernel_15556/4120468507.py\u001b[0m in \u001b[0;36mTsoil\u001b[1;34m(z, sec)\u001b[0m\n\u001b[0;32m     15\u001b[0m     \u001b[0mA\u001b[0m\u001b[1;33m=\u001b[0m \u001b[0mA0\u001b[0m\u001b[1;33m*\u001b[0m\u001b[0mm\u001b[0m\u001b[1;33m.\u001b[0m\u001b[0mexp\u001b[0m\u001b[1;33m(\u001b[0m\u001b[1;33m-\u001b[0m\u001b[0mz\u001b[0m\u001b[1;33m/\u001b[0m\u001b[0mD\u001b[0m\u001b[1;33m)\u001b[0m\u001b[1;33m\u001b[0m\u001b[1;33m\u001b[0m\u001b[0m\n\u001b[0;32m     16\u001b[0m     \u001b[0mB\u001b[0m\u001b[1;33m=\u001b[0m \u001b[1;33m-\u001b[0m\u001b[0mz\u001b[0m\u001b[1;33m/\u001b[0m\u001b[0mD\u001b[0m\u001b[1;33m\u001b[0m\u001b[1;33m\u001b[0m\u001b[0m\n\u001b[1;32m---> 17\u001b[1;33m     \u001b[0mTbar\u001b[0m\u001b[1;33m=\u001b[0m\u001b[0mTbar\u001b[0m \u001b[1;33m+\u001b[0m \u001b[0mA\u001b[0m\u001b[1;33m*\u001b[0m\u001b[0mm\u001b[0m\u001b[1;33m.\u001b[0m\u001b[0msin\u001b[0m\u001b[1;33m(\u001b[0m\u001b[0mw\u001b[0m\u001b[1;33m*\u001b[0m\u001b[0msec\u001b[0m\u001b[1;33m+\u001b[0m\u001b[0mB\u001b[0m\u001b[1;33m)\u001b[0m\u001b[1;33m\u001b[0m\u001b[1;33m\u001b[0m\u001b[0m\n\u001b[0m\u001b[0;32m     18\u001b[0m     \u001b[1;32mreturn\u001b[0m\u001b[1;33m(\u001b[0m\u001b[0mTbar\u001b[0m\u001b[1;33m)\u001b[0m\u001b[1;33m\u001b[0m\u001b[1;33m\u001b[0m\u001b[0m\n\u001b[0;32m     19\u001b[0m \u001b[1;33m\u001b[0m\u001b[0m\n",
      "\u001b[1;31mUnboundLocalError\u001b[0m: local variable 'Tbar' referenced before assignment"
     ]
    }
   ],
   "source": [
    "w= 2*m.pi/86400 #s^-1, angular frequency\n",
    "k= 0.0042 #thermal conductivity of soil, cal cm^-1 s^-1 °C^-1\n",
    "C= 0.5 #volumetric heat capacity, cal cm^-3 °C^-1\n",
    "\n",
    "#Estimate aggregate parameters\n",
    "K= k/C #thermal diffusivity\n",
    "D= (2*K/w)**0.5 #damping depth, cm\n",
    "  \n",
    "Tbar= 20 #°C\n",
    "A0= 8 #°C\n",
    "\n",
    "#z in depth in cm\n",
    "#sec in time in seconds\n",
    "def Tsoil(z,sec):\n",
    "    A= A0*m.exp(-z/D)\n",
    "    B= -z/D\n",
    "    Tbar=Tbar + A*m.sin(w*sec+B)\n",
    "    return(Tbar)\n",
    "\n",
    "\n",
    "sec= np.arange(0,23, 1)\n",
    "sec=sec*60*60\n",
    " #hr\n",
    "\n",
    "#plot across depths\n",
    "pl.plot(sec/(60*60),Tsoil(0,sec), type=\"l\", lty=\"dashed\", \n",
    "     xlim=c(0,24), xlab= \"Time (hr)\", ylab=\"Temperature (°C)\")\n",
    "points(sec/(60*60),Tsoil(5,sec), type=\"l\", col=\"skyblue\")\n",
    "points(sec/(60*60),Tsoil(10,sec), type=\"l\", col=\"skyblue2\")\n",
    "points(sec/(60*60),Tsoil(20,sec), type=\"l\", col=\"skyblue3\")\n",
    "points(sec/(60*60),Tsoil(40,sec), type=\"l\", col=\"skyblue4\")\n",
    "abline(h=20)\n",
    "legend(\"topright\", c(\"z=0cm\",\"z=5cm\",\"z=10cm\",\"z=20cm\",\"z=40cm\"), \n",
    "       col=c('black','skyblue','skyblue2','skyblue3','skyblue4'), \n",
    "       lty=c('dashed', rep('solid',4)), bty = \"n\")\n"
   ]
  },
  {
   "cell_type": "code",
   "execution_count": 108,
   "id": "77b13270",
   "metadata": {},
   "outputs": [
    {
     "data": {
      "text/plain": [
       "[<matplotlib.lines.Line2D at 0x2897f4fc190>]"
      ]
     },
     "execution_count": 108,
     "metadata": {},
     "output_type": "execute_result"
    },
    {
     "data": {
      "image/png": "[encoded data removed]",
      "text/plain": [
       "<Figure size 432x288 with 1 Axes>"
      ]
     },
     "metadata": {
      "needs_background": "light"
     },
     "output_type": "display_data"
    }
   ],
   "source": [
    "pl.plot(Tem,z1)"
   ]
  }
 ],
 "metadata": {
  "kernelspec": {
   "display_name": "Python 3 (ipykernel)",
   "language": "python",
   "name": "python3"
  },
  "language_info": {
   "codemirror_mode": {
    "name": "ipython",
    "version": 3
   },
   "file_extension": ".py",
   "mimetype": "text/x-python",
   "name": "python",
   "nbconvert_exporter": "python",
   "pygments_lexer": "ipython3",
   "version": "3.9.6"
  }
 },
 "nbformat": 4,
 "nbformat_minor": 5
}
